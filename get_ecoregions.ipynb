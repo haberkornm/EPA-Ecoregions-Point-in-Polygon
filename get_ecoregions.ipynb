{
  "nbformat": 4,
  "nbformat_minor": 0,
  "metadata": {
    "colab": {
      "name": "get_ecoregions.ipynb",
      "provenance": [],
      "mount_file_id": "1bcm6r614inx9p728Qe4rC8_S2lU3WR1D",
      "authorship_tag": "ABX9TyMewM8YQ81BtVuDkW/jhwkb",
      "include_colab_link": true
    },
    "kernelspec": {
      "name": "python3",
      "display_name": "Python 3"
    },
    "language_info": {
      "name": "python"
    }
  },
  "cells": [
    {
      "cell_type": "markdown",
      "metadata": {
        "id": "view-in-github",
        "colab_type": "text"
      },
      "source": [
        "<a href=\"https://colab.research.google.com/github/haberkornm/EPA-Ecoregions-Point-in-Polygon/blob/main/get_ecoregions.ipynb\" target=\"_parent\"><img src=\"https://colab.research.google.com/assets/colab-badge.svg\" alt=\"Open In Colab\"/></a>"
      ]
    },
    {
      "cell_type": "code",
      "metadata": {
        "colab": {
          "base_uri": "https://localhost:8080/"
        },
        "id": "8_M02tuOmK4n",
        "outputId": "f59669d9-abac-45fd-a456-a7a0e245bac5"
      },
      "source": [
        "#Mounting google drive so shapefiles can be loaded\n",
        "from google.colab import drive\n",
        "\n",
        "drive.mount('/content/drive')"
      ],
      "execution_count": 1,
      "outputs": [
        {
          "output_type": "stream",
          "name": "stdout",
          "text": [
            "Drive already mounted at /content/drive; to attempt to forcibly remount, call drive.mount(\"/content/drive\", force_remount=True).\n"
          ]
        }
      ]
    },
    {
      "cell_type": "code",
      "metadata": {
        "id": "ZSJcEzb6mnIn"
      },
      "source": [
        "pip install geopandas"
      ],
      "execution_count": null,
      "outputs": []
    },
    {
      "cell_type": "markdown",
      "metadata": {
        "id": "dAZQN4b3yrDg"
      },
      "source": [
        "#Reverse Geolocation Function"
      ]
    },
    {
      "cell_type": "code",
      "metadata": {
        "id": "A5z7YQlSmQ75"
      },
      "source": [
        "#Packages required for function\n",
        "import geopandas as gpd  #Used for extracting shape properties and point in polygon within function\n",
        "from shapely.geometry import Point #Used for making data type point for polygons\n",
        "import pandas as pd  #used for running polygon dataframe\n",
        "from shapely import wkt\n",
        "\n",
        "#This dataframe was created from the EPA North American Ecoregions Level 3 shapefile.\n",
        "#Shape file found at https://www.epa.gov/eco-research/ecoregions-north-america\n",
        "#zip file for level 3 ecoregions https://gaftp.epa.gov/EPADataCommons/ORD/Ecoregions/cec_na/NA_CEC_Eco_Level3.zip\n",
        "NA3 = pd.read_csv('/content/drive/MyDrive/Reverse geocoding/ecoregions3.csv') #Load Pandas dataframe\n",
        "#url = 'https://drive.google.com/file/d/1juAggvAa9mcMlGdCj6AZt3KNo57vPYhT/view?usp=sharing'\n",
        "#NA3 = pd.read_csv(url)\n",
        "NA3['geometry'] = NA3['geometry'].apply(wkt.loads) #Convert geometry for geopandas\n",
        "NA3 = gpd.GeoDataFrame(NA3) #Convert pandas dataframe to geopandas dataframe\n",
        "\n",
        "#Create function to obtain epa ecoregions 1, 2, and 3\n",
        "#Uses single set of lat and long for output\n",
        "def get_eco(lat, long):\n",
        "  point = Point(long, lat)\n",
        "  for i in range(0, len(NA3)):\n",
        "    if point.within(NA3[\"geometry\"][i])==True:\n",
        "      loc = [NA3['NA_L1KEY'][i],  NA3['NA_L2KEY'][i],  NA3['NA_L3KEY'][i]]\n",
        "      return(loc)\n",
        "\n",
        "#Create function that uses get_eco for entire dataframe.\n",
        "def get_ecoregions(lat, long, df):  #df is dataframe function will be used on\n",
        "  ecos = []\n",
        "  for i in range(0, len(df)):\n",
        "    ecos.append(get_eco(lat[i], long[i]))\n",
        "  df[['Level_1', 'Level_2', 'Level_3']] = ecos"
      ],
      "execution_count": 15,
      "outputs": []
    },
    {
      "cell_type": "markdown",
      "metadata": {
        "id": "RCO7Nl7lywgN"
      },
      "source": [
        "#Testing Function"
      ]
    },
    {
      "cell_type": "code",
      "metadata": {
        "id": "OQZfyatQoQ2f"
      },
      "source": [
        "#Create 10 points for to create dataframe for testing function\n",
        "points = [[-112.0870977, 33.4942405, 'Phoenix'], [-111.5719556, 35.1842613, 'Flagstaff'], [-109.6450123, 33.958546, 'Greer'], \n",
        "[-111.6771445, 35.3498522, 'Mt. Humphrey'], [-105.5777349, 42.8788752, 'E. Iowa'], [-106.0264983, 39.6419848, 'Silverthorne'], \n",
        "[-90.3325451, 38.4984679, 'Eureka'], [-101.9310323, 34.8903525, 'Canyon'], [-91.6049041, 43.637534, 'S. Minn'], \n",
        "[-117.5877772, 33.6247486, 'S. California']]\n",
        "\n",
        "#Make 10 points into pandas dataframe\n",
        "df = pd.DataFrame(points, columns = ['long', 'lat', 'Location'])"
      ],
      "execution_count": 13,
      "outputs": []
    },
    {
      "cell_type": "code",
      "metadata": {
        "id": "_qN2-ywFgLDy"
      },
      "source": [
        "#Testing function on lat and long columns in df\n",
        "get_ecoregions(df.lat, df.long, df)"
      ],
      "execution_count": 14,
      "outputs": []
    },
    {
      "cell_type": "code",
      "metadata": {
        "colab": {
          "base_uri": "https://localhost:8080/",
          "height": 537
        },
        "id": "SB4pClV6omf8",
        "outputId": "3ba8c1cf-fb00-4519-f71f-e37e60fbbcb4"
      },
      "source": [
        "#get_ecoregions() function produces three new columns in dataframe df for level 1, level 2, and level 3 epa ecoregions.\n",
        "df"
      ],
      "execution_count": null,
      "outputs": [
        {
          "output_type": "execute_result",
          "data": {
            "text/html": [
              "<div>\n",
              "<style scoped>\n",
              "    .dataframe tbody tr th:only-of-type {\n",
              "        vertical-align: middle;\n",
              "    }\n",
              "\n",
              "    .dataframe tbody tr th {\n",
              "        vertical-align: top;\n",
              "    }\n",
              "\n",
              "    .dataframe thead th {\n",
              "        text-align: right;\n",
              "    }\n",
              "</style>\n",
              "<table border=\"1\" class=\"dataframe\">\n",
              "  <thead>\n",
              "    <tr style=\"text-align: right;\">\n",
              "      <th></th>\n",
              "      <th>long</th>\n",
              "      <th>lat</th>\n",
              "      <th>Location</th>\n",
              "      <th>Level_1</th>\n",
              "      <th>Level_2</th>\n",
              "      <th>Level_3</th>\n",
              "    </tr>\n",
              "  </thead>\n",
              "  <tbody>\n",
              "    <tr>\n",
              "      <th>0</th>\n",
              "      <td>-112.087098</td>\n",
              "      <td>33.494240</td>\n",
              "      <td>Phoenix</td>\n",
              "      <td>10  NORTH AMERICAN DESERTS</td>\n",
              "      <td>10.2  WARM DESERTS</td>\n",
              "      <td>10.2.2  Sonoran Desert</td>\n",
              "    </tr>\n",
              "    <tr>\n",
              "      <th>1</th>\n",
              "      <td>-111.571956</td>\n",
              "      <td>35.184261</td>\n",
              "      <td>Flagstaff</td>\n",
              "      <td>13  TEMPERATE SIERRAS</td>\n",
              "      <td>13.1  UPPER GILA MOUNTAINS</td>\n",
              "      <td>13.1.1  Arizona/New Mexico Mountains</td>\n",
              "    </tr>\n",
              "    <tr>\n",
              "      <th>2</th>\n",
              "      <td>-109.645012</td>\n",
              "      <td>33.958546</td>\n",
              "      <td>Greer</td>\n",
              "      <td>13  TEMPERATE SIERRAS</td>\n",
              "      <td>13.1  UPPER GILA MOUNTAINS</td>\n",
              "      <td>13.1.1  Arizona/New Mexico Mountains</td>\n",
              "    </tr>\n",
              "    <tr>\n",
              "      <th>3</th>\n",
              "      <td>-111.677144</td>\n",
              "      <td>35.349852</td>\n",
              "      <td>Mt. Humphrey</td>\n",
              "      <td>13  TEMPERATE SIERRAS</td>\n",
              "      <td>13.1  UPPER GILA MOUNTAINS</td>\n",
              "      <td>13.1.1  Arizona/New Mexico Mountains</td>\n",
              "    </tr>\n",
              "    <tr>\n",
              "      <th>4</th>\n",
              "      <td>-105.577735</td>\n",
              "      <td>42.878875</td>\n",
              "      <td>E. Iowa</td>\n",
              "      <td>9  GREAT PLAINS</td>\n",
              "      <td>9.3  WEST-CENTRAL SEMIARID PRAIRIES</td>\n",
              "      <td>9.3.3  Northwestern Great Plains</td>\n",
              "    </tr>\n",
              "    <tr>\n",
              "      <th>5</th>\n",
              "      <td>-106.026498</td>\n",
              "      <td>39.641985</td>\n",
              "      <td>Silverthorne</td>\n",
              "      <td>6  NORTHWESTERN FORESTED MOUNTAINS</td>\n",
              "      <td>6.2  WESTERN CORDILLERA</td>\n",
              "      <td>6.2.14  Southern Rockies</td>\n",
              "    </tr>\n",
              "    <tr>\n",
              "      <th>6</th>\n",
              "      <td>-90.332545</td>\n",
              "      <td>38.498468</td>\n",
              "      <td>Eureka</td>\n",
              "      <td>8  EASTERN TEMPERATE FORESTS</td>\n",
              "      <td>8.3  SOUTHEASTERN USA PLAINS</td>\n",
              "      <td>8.3.2  Interior River Valleys and Hills</td>\n",
              "    </tr>\n",
              "    <tr>\n",
              "      <th>7</th>\n",
              "      <td>-101.931032</td>\n",
              "      <td>34.890352</td>\n",
              "      <td>Canyon</td>\n",
              "      <td>9  GREAT PLAINS</td>\n",
              "      <td>9.4  SOUTH CENTRAL SEMIARID PRAIRIES</td>\n",
              "      <td>9.4.1  High Plains</td>\n",
              "    </tr>\n",
              "    <tr>\n",
              "      <th>8</th>\n",
              "      <td>-91.604904</td>\n",
              "      <td>43.637534</td>\n",
              "      <td>S. Minn</td>\n",
              "      <td>8  EASTERN TEMPERATE FORESTS</td>\n",
              "      <td>8.1  MIXED WOOD PLAINS</td>\n",
              "      <td>8.1.5  Driftless Area</td>\n",
              "    </tr>\n",
              "    <tr>\n",
              "      <th>9</th>\n",
              "      <td>-117.587777</td>\n",
              "      <td>33.624749</td>\n",
              "      <td>S. California</td>\n",
              "      <td>11  MEDITERRANEAN CALIFORNIA</td>\n",
              "      <td>11.1  MEDITERRANEAN CALIFORNIA</td>\n",
              "      <td>11.1.1  California Coastal Sage, Chaparral, an...</td>\n",
              "    </tr>\n",
              "  </tbody>\n",
              "</table>\n",
              "</div>"
            ],
            "text/plain": [
              "         long  ...                                            Level_3\n",
              "0 -112.087098  ...                             10.2.2  Sonoran Desert\n",
              "1 -111.571956  ...               13.1.1  Arizona/New Mexico Mountains\n",
              "2 -109.645012  ...               13.1.1  Arizona/New Mexico Mountains\n",
              "3 -111.677144  ...               13.1.1  Arizona/New Mexico Mountains\n",
              "4 -105.577735  ...                   9.3.3  Northwestern Great Plains\n",
              "5 -106.026498  ...                           6.2.14  Southern Rockies\n",
              "6  -90.332545  ...            8.3.2  Interior River Valleys and Hills\n",
              "7 -101.931032  ...                                 9.4.1  High Plains\n",
              "8  -91.604904  ...                              8.1.5  Driftless Area\n",
              "9 -117.587777  ...  11.1.1  California Coastal Sage, Chaparral, an...\n",
              "\n",
              "[10 rows x 6 columns]"
            ]
          },
          "metadata": {},
          "execution_count": 9
        }
      ]
    },
    {
      "cell_type": "code",
      "metadata": {
        "id": "3e3pXqfDoQ6O"
      },
      "source": [
        ""
      ],
      "execution_count": null,
      "outputs": []
    }
  ]
}